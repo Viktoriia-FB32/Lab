{
 "cells": [
  {
   "cell_type": "markdown",
   "metadata": {},
   "source": [
    "Крок 1: Імпорт бібліотек\n",
    "python"
   ]
  },
  {
   "cell_type": "code",
   "execution_count": 3,
   "metadata": {},
   "outputs": [
    {
     "ename": "ValueError",
     "evalue": "Key backend: 'module://matplotlib_inline.backend_inline' is not a valid value for backend; supported values are ['gtk3agg', 'gtk3cairo', 'gtk4agg', 'gtk4cairo', 'macosx', 'nbagg', 'notebook', 'qtagg', 'qtcairo', 'qt5agg', 'qt5cairo', 'tkagg', 'tkcairo', 'webagg', 'wx', 'wxagg', 'wxcairo', 'agg', 'cairo', 'pdf', 'pgf', 'ps', 'svg', 'template']",
     "output_type": "error",
     "traceback": [
      "\u001b[31m---------------------------------------------------------------------------\u001b[39m",
      "\u001b[31mValueError\u001b[39m                                Traceback (most recent call last)",
      "\u001b[36mCell\u001b[39m\u001b[36m \u001b[39m\u001b[32mIn[3]\u001b[39m\u001b[32m, line 8\u001b[39m\n\u001b[32m      6\u001b[39m \u001b[38;5;28;01mimport\u001b[39;00m\u001b[38;5;250m \u001b[39m\u001b[34;01mhashlib\u001b[39;00m\n\u001b[32m      7\u001b[39m \u001b[38;5;28;01mimport\u001b[39;00m\u001b[38;5;250m \u001b[39m\u001b[34;01mre\u001b[39;00m\n\u001b[32m----> \u001b[39m\u001b[32m8\u001b[39m \u001b[38;5;28;01mimport\u001b[39;00m\u001b[38;5;250m \u001b[39m\u001b[34;01mmatplotlib\u001b[39;00m\u001b[34;01m.\u001b[39;00m\u001b[34;01mpyplot\u001b[39;00m\u001b[38;5;250m \u001b[39m\u001b[38;5;28;01mas\u001b[39;00m\u001b[38;5;250m \u001b[39m\u001b[34;01mplt\u001b[39;00m\n\u001b[32m      9\u001b[39m \u001b[38;5;28;01mimport\u001b[39;00m\u001b[38;5;250m \u001b[39m\u001b[34;01mseaborn\u001b[39;00m\u001b[38;5;250m \u001b[39m\u001b[38;5;28;01mas\u001b[39;00m\u001b[38;5;250m \u001b[39m\u001b[34;01msns\u001b[39;00m\n\u001b[32m     10\u001b[39m \u001b[38;5;28mprint\u001b[39m(\u001b[33mf\u001b[39m\u001b[33m\"\u001b[39m\u001b[33mMatplotlib версія: \u001b[39m\u001b[38;5;132;01m{\u001b[39;00mmatplotlib.__version__\u001b[38;5;132;01m}\u001b[39;00m\u001b[33m\"\u001b[39m)\n",
      "\u001b[36mFile \u001b[39m\u001b[32m~\\AppData\\Local\\Packages\\PythonSoftwareFoundation.Python.3.11_qbz5n2kfra8p0\\LocalCache\\local-packages\\Python311\\site-packages\\matplotlib\\__init__.py:1296\u001b[39m\n\u001b[32m   1292\u001b[39m     rcParams[\u001b[33m'\u001b[39m\u001b[33mbackend_fallback\u001b[39m\u001b[33m'\u001b[39m] = \u001b[38;5;28;01mFalse\u001b[39;00m\n\u001b[32m   1295\u001b[39m \u001b[38;5;28;01mif\u001b[39;00m os.environ.get(\u001b[33m'\u001b[39m\u001b[33mMPLBACKEND\u001b[39m\u001b[33m'\u001b[39m):\n\u001b[32m-> \u001b[39m\u001b[32m1296\u001b[39m     \u001b[43mrcParams\u001b[49m\u001b[43m[\u001b[49m\u001b[33;43m'\u001b[39;49m\u001b[33;43mbackend\u001b[39;49m\u001b[33;43m'\u001b[39;49m\u001b[43m]\u001b[49m = os.environ.get(\u001b[33m'\u001b[39m\u001b[33mMPLBACKEND\u001b[39m\u001b[33m'\u001b[39m)\n\u001b[32m   1299\u001b[39m \u001b[38;5;28;01mdef\u001b[39;00m\u001b[38;5;250m \u001b[39m\u001b[34mget_backend\u001b[39m(*, auto_select=\u001b[38;5;28;01mTrue\u001b[39;00m):\n\u001b[32m   1300\u001b[39m \u001b[38;5;250m    \u001b[39m\u001b[33;03m\"\"\"\u001b[39;00m\n\u001b[32m   1301\u001b[39m \u001b[33;03m    Return the name of the current backend.\u001b[39;00m\n\u001b[32m   1302\u001b[39m \n\u001b[32m   (...)\u001b[39m\u001b[32m   1320\u001b[39m \u001b[33;03m    matplotlib.use\u001b[39;00m\n\u001b[32m   1321\u001b[39m \u001b[33;03m    \"\"\"\u001b[39;00m\n",
      "\u001b[36mFile \u001b[39m\u001b[32m~\\AppData\\Local\\Packages\\PythonSoftwareFoundation.Python.3.11_qbz5n2kfra8p0\\LocalCache\\local-packages\\Python311\\site-packages\\matplotlib\\__init__.py:771\u001b[39m, in \u001b[36mRcParams.__setitem__\u001b[39m\u001b[34m(self, key, val)\u001b[39m\n\u001b[32m    769\u001b[39m         cval = \u001b[38;5;28mself\u001b[39m.validate[key](val)\n\u001b[32m    770\u001b[39m     \u001b[38;5;28;01mexcept\u001b[39;00m \u001b[38;5;167;01mValueError\u001b[39;00m \u001b[38;5;28;01mas\u001b[39;00m ve:\n\u001b[32m--> \u001b[39m\u001b[32m771\u001b[39m         \u001b[38;5;28;01mraise\u001b[39;00m \u001b[38;5;167;01mValueError\u001b[39;00m(\u001b[33mf\u001b[39m\u001b[33m\"\u001b[39m\u001b[33mKey \u001b[39m\u001b[38;5;132;01m{\u001b[39;00mkey\u001b[38;5;132;01m}\u001b[39;00m\u001b[33m: \u001b[39m\u001b[38;5;132;01m{\u001b[39;00mve\u001b[38;5;132;01m}\u001b[39;00m\u001b[33m\"\u001b[39m) \u001b[38;5;28;01mfrom\u001b[39;00m\u001b[38;5;250m \u001b[39m\u001b[38;5;28;01mNone\u001b[39;00m\n\u001b[32m    772\u001b[39m     \u001b[38;5;28mself\u001b[39m._set(key, cval)\n\u001b[32m    773\u001b[39m \u001b[38;5;28;01mexcept\u001b[39;00m \u001b[38;5;167;01mKeyError\u001b[39;00m \u001b[38;5;28;01mas\u001b[39;00m err:\n",
      "\u001b[31mValueError\u001b[39m: Key backend: 'module://matplotlib_inline.backend_inline' is not a valid value for backend; supported values are ['gtk3agg', 'gtk3cairo', 'gtk4agg', 'gtk4cairo', 'macosx', 'nbagg', 'notebook', 'qtagg', 'qtcairo', 'qt5agg', 'qt5cairo', 'tkagg', 'tkcairo', 'webagg', 'wx', 'wxagg', 'wxcairo', 'agg', 'cairo', 'pdf', 'pgf', 'ps', 'svg', 'template']"
     ]
    }
   ],
   "source": [
    "# Імпорт необхідних бібліотек\n",
    "import urllib.request\n",
    "import pandas as pd\n",
    "import os\n",
    "from datetime import datetime\n",
    "import hashlib\n",
    "import re\n",
    "import matplotlib.pyplot as plt\n",
    "import seaborn as sns\n",
    "print(f\"Matplotlib версія: {matplotlib.__version__}\")"
   ]
  },
  {
   "cell_type": "markdown",
   "metadata": {},
   "source": [
    "Крок 2: Завантаження даних з NOAA"
   ]
  },
  {
   "cell_type": "code",
   "execution_count": null,
   "metadata": {},
   "outputs": [
    {
     "name": "stdout",
     "output_type": "stream",
     "text": [
      "Дані для області 1 завантажено у файл data\\vhi_1_20250325_122427.csv\n",
      "Дані для області 2 завантажено у файл data\\vhi_2_20250325_122428.csv\n",
      "Дані для області 3 завантажено у файл data\\vhi_3_20250325_122430.csv\n",
      "Дані для області 4 завантажено у файл data\\vhi_4_20250325_122431.csv\n",
      "Дані для області 5 завантажено у файл data\\vhi_5_20250325_122432.csv\n",
      "Дані для області 6 завантажено у файл data\\vhi_6_20250325_122435.csv\n",
      "Дані для області 7 завантажено у файл data\\vhi_7_20250325_122436.csv\n",
      "Дані для області 8 завантажено у файл data\\vhi_8_20250325_122437.csv\n",
      "Дані для області 9 завантажено у файл data\\vhi_9_20250325_122439.csv\n",
      "Дані для області 10 завантажено у файл data\\vhi_10_20250325_122440.csv\n",
      "Дані для області 11 завантажено у файл data\\vhi_11_20250325_122443.csv\n",
      "Дані для області 12 завантажено у файл data\\vhi_12_20250325_122444.csv\n",
      "Дані для області 13 завантажено у файл data\\vhi_13_20250325_122445.csv\n",
      "Дані для області 14 завантажено у файл data\\vhi_14_20250325_122447.csv\n",
      "Дані для області 15 завантажено у файл data\\vhi_15_20250325_122448.csv\n",
      "Дані для області 16 завантажено у файл data\\vhi_16_20250325_122449.csv\n",
      "Дані для області 17 завантажено у файл data\\vhi_17_20250325_122450.csv\n",
      "Дані для області 18 завантажено у файл data\\vhi_18_20250325_122452.csv\n",
      "Дані для області 19 завантажено у файл data\\vhi_19_20250325_122453.csv\n",
      "Дані для області 20 завантажено у файл data\\vhi_20_20250325_122454.csv\n",
      "Дані для області 21 завантажено у файл data\\vhi_21_20250325_122455.csv\n",
      "Дані для області 22 завантажено у файл data\\vhi_22_20250325_122456.csv\n",
      "Дані для області 23 завантажено у файл data\\vhi_23_20250325_122458.csv\n",
      "Дані для області 24 завантажено у файл data\\vhi_24_20250325_122459.csv\n",
      "Дані для області 25 завантажено у файл data\\vhi_25_20250325_122500.csv\n",
      "Дані для області 26 завантажено у файл data\\vhi_26_20250325_122501.csv\n",
      "Дані для області 27 завантажено у файл data\\vhi_27_20250325_122502.csv\n"
     ]
    }
   ],
   "source": [
    "# Функція для завантаження даних VHI з NOAA\n",
    "def download_vhi_data(region_id):\n",
    "    \"\"\"Завантажує дані VHI для області та зберігає у файлі з унікальним ім'ям.\"\"\"\n",
    "    url = f\"https://www.star.nesdis.noaa.gov/smcd/emb/vci/VH/get_TS_admin.php?country=UKR&provinceID={region_id}&year1=1981&year2=2024&type=Mean\"\n",
    "    timestamp = datetime.now().strftime(\"%Y%m%d_%H%M%S\")\n",
    "    output_file = os.path.join(\"data\", f\"vhi_{region_id}_{timestamp}.csv\")\n",
    "\n",
    "    try:\n",
    "        response = urllib.request.urlopen(url)\n",
    "        content = response.read()\n",
    "\n",
    "        with open(output_file, 'wb') as file:\n",
    "            file.write(content)\n",
    "\n",
    "        print(f\"Дані для області {region_id} завантажено у файл {output_file}\")\n",
    "        return output_file\n",
    "    except Exception as e:\n",
    "        print(f\"Помилка при завантаженні даних для області {region_id}: {e}\")\n",
    "        return None\n",
    "\n",
    "# Створення папки для збереження даних\n",
    "if not os.path.exists(\"data\"):\n",
    "    os.makedirs(\"data\")\n",
    "\n",
    "# Завантаження даних для всіх областей\n",
    "for region_id in range(1, 28):\n",
    "    download_vhi_data(region_id)"
   ]
  },
  {
   "cell_type": "markdown",
   "metadata": {},
   "source": [
    "Крок 3: Читання та обробка даних"
   ]
  },
  {
   "cell_type": "code",
   "execution_count": null,
   "metadata": {},
   "outputs": [
    {
     "name": "stdout",
     "output_type": "stream",
     "text": [
      "   Year  Week    SMN     SMT    VCI    TCI    VHI  Region_ID\n",
      "0  1982   1.0  0.059  258.24  51.11  48.78  49.95         10\n",
      "1  1982   2.0  0.063  261.53  55.89  38.20  47.04         10\n",
      "2  1982   3.0  0.063  263.45  57.30  32.69  44.99         10\n",
      "3  1982   4.0  0.061  265.10  53.96  28.62  41.29         10\n",
      "4  1982   5.0  0.058  266.42  46.87  28.57  37.72         10\n"
     ]
    }
   ],
   "source": [
    "# Функція для читання та обробки CSV-файлів\n",
    "def process_csv_files(data_dir):\n",
    "    \"\"\"Читає CSV-файли з папки та об'єднує їх у один DataFrame.\"\"\"\n",
    "    all_data = pd.DataFrame()\n",
    "    files = [f for f in os.listdir(data_dir) if f.endswith('.csv')]\n",
    "\n",
    "    for file in files:\n",
    "        file_path = os.path.join(data_dir, file)\n",
    "        try:\n",
    "            df = pd.read_csv(file_path, skiprows=2, names=[\"Year\", \"Week\", \"SMN\", \"SMT\", \"VCI\", \"TCI\", \"VHI\", \"empty\"])\n",
    "            df[\"Region_ID\"] = int(re.findall(r'\\d+', file)[0])  # Додаємо ID області\n",
    "            all_data = pd.concat([all_data, df], ignore_index=True)\n",
    "        except Exception as e:\n",
    "            print(f\"Помилка при читанні файлу {file}: {e}\")\n",
    "\n",
    "    # Видаляємо непотрібні стовпці та рядки з відсутніми даними\n",
    "    all_data.drop(columns=[\"empty\"], inplace=True)\n",
    "    all_data.dropna(subset=[\"VHI\"], inplace=True)\n",
    "\n",
    "    # Очистка стовпця \"Year\" від HTML-тегів\n",
    "    all_data['Year'] = all_data['Year'].apply(lambda x: re.sub(r'<[^>]+>', '', str(x)))\n",
    "    all_data['Year'] = pd.to_numeric(all_data['Year'], errors='coerce')\n",
    "\n",
    "    return all_data\n",
    "\n",
    "# Обробка даних\n",
    "data = process_csv_files(\"data\")\n",
    "print(data.head())"
   ]
  },
  {
   "cell_type": "markdown",
   "metadata": {},
   "source": [
    "Крок 4: Зміна індексів областей"
   ]
  },
  {
   "cell_type": "code",
   "execution_count": null,
   "metadata": {},
   "outputs": [
    {
     "name": "stdout",
     "output_type": "stream",
     "text": [
      "   Year  Week    SMN     SMT    VCI    TCI    VHI  Region_ID\n",
      "0  1982   1.0  0.059  258.24  51.11  48.78  49.95         23\n",
      "1  1982   2.0  0.063  261.53  55.89  38.20  47.04         23\n",
      "2  1982   3.0  0.063  263.45  57.30  32.69  44.99         23\n",
      "3  1982   4.0  0.061  265.10  53.96  28.62  41.29         23\n",
      "4  1982   5.0  0.058  266.42  46.87  28.57  37.72         23\n"
     ]
    }
   ],
   "source": [
    "# Словник для заміни індексів областей\n",
    "region_mapping = {\n",
    "    1: 24, 2: 26, 3: 25, 4: 27, 5: 3, 6: 4, 7: 8,\n",
    "    8: 21, 9: 22, 10: 23, 11: 10, 12: 9, 13: 11, 14: 12,\n",
    "    15: 13, 16: 14, 17: 15, 18: 16, 19: 17, 20: 18, 21: 19,\n",
    "    22: 20, 23: 6, 24: 1, 25: 2, 26: 7, 27: 5\n",
    "}\n",
    "\n",
    "# Функція для оновлення індексів областей\n",
    "def update_region_ids(df, mapping):\n",
    "    \"\"\"Оновлює індекси областей у DataFrame.\"\"\"\n",
    "    df[\"Region_ID\"] = df[\"Region_ID\"].map(mapping)\n",
    "    return df\n",
    "\n",
    "# Оновлення індексів\n",
    "data = update_region_ids(data, region_mapping)\n",
    "print(data.head())"
   ]
  },
  {
   "cell_type": "markdown",
   "metadata": {},
   "source": [
    "Крок 5: Аналіз даних\n",
    "1. Отримати VHI для області за вказаний рік"
   ]
  },
  {
   "cell_type": "code",
   "execution_count": null,
   "metadata": {},
   "outputs": [
    {
     "name": "stdout",
     "output_type": "stream",
     "text": [
      "       Year  Week    VHI\n",
      "8687   2020   1.0  37.78\n",
      "8688   2020   2.0  38.41\n",
      "8689   2020   3.0  39.74\n",
      "8690   2020   4.0  41.90\n",
      "8691   2020   5.0  43.53\n",
      "...     ...   ...    ...\n",
      "13208  2020  48.0  37.69\n",
      "13209  2020  49.0  38.98\n",
      "13210  2020  50.0  40.16\n",
      "13211  2020  51.0  38.82\n",
      "13212  2020  52.0  38.73\n",
      "\n",
      "[156 rows x 3 columns]\n"
     ]
    }
   ],
   "source": [
    "def get_vhi_by_region_year(df, region_id, year):\n",
    "    \"\"\"Повертає VHI для конкретної області за вказаний рік.\"\"\"\n",
    "    return df[(df[\"Region_ID\"] == region_id) & (df[\"Year\"] == year)][[\"Year\", \"Week\", \"VHI\"]]\n",
    "\n",
    "# Приклад використання\n",
    "vhi_data = get_vhi_by_region_year(data, region_id=10, year=2020)\n",
    "print(vhi_data)"
   ]
  },
  {
   "cell_type": "markdown",
   "metadata": {},
   "source": [
    "2. Пошук екстремумів (min, max), середнього, медіани"
   ]
  },
  {
   "cell_type": "code",
   "execution_count": null,
   "metadata": {},
   "outputs": [
    {
     "name": "stdout",
     "output_type": "stream",
     "text": [
      "   Region_ID  Year    min    max       mean  median\n",
      "0          5  2000  27.46  66.30  47.882885  47.375\n",
      "1          5  2020  35.05  58.33  44.544231  43.660\n",
      "2         10  2000  10.60  61.87  39.758269  35.915\n",
      "3         10  2020  29.27  56.30  41.359423  39.375\n"
     ]
    }
   ],
   "source": [
    "def get_vhi_statistics(df, region_ids, years):\n",
    "    \"\"\"Повертає статистику VHI для вказаних областей та років.\"\"\"\n",
    "    filtered_df = df[(df[\"Region_ID\"].isin(region_ids)) & (df[\"Year\"].isin(years))]\n",
    "    return filtered_df.groupby([\"Region_ID\", \"Year\"])[\"VHI\"].agg([\"min\", \"max\", \"mean\", \"median\"]).reset_index()\n",
    "\n",
    "# Приклад використання\n",
    "stats = get_vhi_statistics(data, region_ids=[5, 10], years=[2000, 2020])\n",
    "print(stats)"
   ]
  },
  {
   "cell_type": "markdown",
   "metadata": {},
   "source": [
    "3. Отримати VHI за вказаний діапазон років для вказаних областей"
   ]
  },
  {
   "cell_type": "code",
   "execution_count": null,
   "metadata": {},
   "outputs": [
    {
     "name": "stdout",
     "output_type": "stream",
     "text": [
      "        Year  Week  Region_ID    VHI\n",
      "28300   2010   1.0         12  49.52\n",
      "28301   2010   2.0         12  47.62\n",
      "28302   2010   3.0         12  47.81\n",
      "28303   2010   4.0         12  46.64\n",
      "28304   2010   5.0         12  45.57\n",
      "...      ...   ...        ...    ...\n",
      "154139  2020  48.0          3  42.12\n",
      "154140  2020  49.0          3  43.01\n",
      "154141  2020  50.0          3  43.61\n",
      "154142  2020  51.0          3  44.95\n",
      "154143  2020  52.0          3  47.12\n",
      "\n",
      "[5148 rows x 4 columns]\n"
     ]
    }
   ],
   "source": [
    "def get_vhi_by_year_range(df, region_ids, start_year, end_year):\n",
    "    \"\"\"Повертає VHI за вказаний діапазон років для вказаних областей.\"\"\"\n",
    "    return df[(df[\"Region_ID\"].isin(region_ids)) & (df[\"Year\"].between(start_year, end_year))][[\"Year\", \"Week\", \"Region_ID\", \"VHI\"]]\n",
    "\n",
    "# Приклад використання\n",
    "vhi_range_data = get_vhi_by_year_range(data, region_ids=[3, 7, 12], start_year=2010, end_year=2020)\n",
    "print(vhi_range_data)"
   ]
  },
  {
   "cell_type": "markdown",
   "metadata": {},
   "source": [
    "4. Виявити роки з екстремальними посухами"
   ]
  },
  {
   "cell_type": "code",
   "execution_count": null,
   "metadata": {},
   "outputs": [
    {
     "name": "stdout",
     "output_type": "stream",
     "text": [
      "        Year  Region_ID    VHI\n",
      "153     1984         23  -1.00\n",
      "154     1984         23  -1.00\n",
      "155     1984         23  -1.00\n",
      "156     1985         23  -1.00\n",
      "157     1985         23  -1.00\n",
      "...      ...        ...    ...\n",
      "180288  2007         22  12.96\n",
      "180289  2007         22  13.48\n",
      "180290  2007         22  14.05\n",
      "180291  2007         22  14.41\n",
      "180292  2007         22  14.81\n",
      "\n",
      "[4335 rows x 3 columns]\n"
     ]
    }
   ],
   "source": [
    "def find_drought_years(df, threshold=15, affected_percentage=0.2):\n",
    "    \"\"\"Повертає роки, коли посуха торкнулася більше вказаного відсотка областей.\"\"\"\n",
    "    province_count = df[\"Region_ID\"].nunique()\n",
    "    min_affected = int(province_count * affected_percentage)\n",
    "\n",
    "    drought_data = df[df[\"VHI\"] < threshold].groupby([\"Year\"])[\"Region_ID\"].nunique().reset_index()\n",
    "    drought_years = drought_data[drought_data[\"Region_ID\"] >= min_affected]\n",
    "\n",
    "    if drought_years.empty:\n",
    "        print(\"Не знайдено років з екстремальними посухами.\")\n",
    "        return None\n",
    "\n",
    "    return df[(df[\"Year\"].isin(drought_years[\"Year\"])) & (df[\"VHI\"] < threshold)][[\"Year\", \"Region_ID\", \"VHI\"]]\n",
    "\n",
    "# Приклад використання\n",
    "drought_info = find_drought_years(data)\n",
    "print(drought_info)"
   ]
  },
  {
   "cell_type": "markdown",
   "metadata": {},
   "source": [
    "Крок 6: Візуалізація даних"
   ]
  },
  {
   "cell_type": "code",
   "execution_count": null,
   "metadata": {},
   "outputs": [
    {
     "data": {
      "image/png": "[encoded data removed]",
      "text/plain": [
       "<Figure size 1000x600 with 1 Axes>"
      ]
     },
     "metadata": {},
     "output_type": "display_data"
    }
   ],
   "source": [
    "# Побудова графіка VHI для області за рік\n",
    "def plot_vhi_by_year(df, region_id, year):\n",
    "    \"\"\"Побудова графіка VHI для області за вказаний рік.\"\"\"\n",
    "    vhi_data = get_vhi_by_region_year(df, region_id, year)\n",
    "    if vhi_data.empty:\n",
    "        print(f\"Немає даних для області {region_id} за {year} рік.\")\n",
    "        return\n",
    "    plt.figure(figsize=(10, 6))\n",
    "    plt.plot(vhi_data[\"Week\"], vhi_data[\"VHI\"], marker='o', linestyle='-', color='b')\n",
    "    plt.title(f\"VHI для області {region_id} за {year} рік\")\n",
    "    plt.xlabel(\"Тиждень\")\n",
    "    plt.ylabel(\"VHI\")\n",
    "    plt.grid(True)\n",
    "    plt.show()\n",
    "\n",
    "# Приклад використання\n",
    "plot_vhi_by_year(data, region_id=10, year=2010)"
   ]
  }
 ],
 "metadata": {
  "kernelspec": {
   "display_name": "Python 3",
   "language": "python",
   "name": "python3"
  },
  "language_info": {
   "codemirror_mode": {
    "name": "ipython",
    "version": 3
   },
   "file_extension": ".py",
   "mimetype": "text/x-python",
   "name": "python",
   "nbconvert_exporter": "python",
   "pygments_lexer": "ipython3",
   "version": "3.11.9"
  }
 },
 "nbformat": 4,
 "nbformat_minor": 2
}
