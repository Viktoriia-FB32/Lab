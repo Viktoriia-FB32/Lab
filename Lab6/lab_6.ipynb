{
 "cells": [
  {
   "cell_type": "markdown",
   "metadata": {},
   "source": [
   ]
  },
  {
   "cell_type": "code",
   "execution_count": 2,
   "metadata": {
    "ExecuteTime": {
     "end_time": "2024-05-19T20:24:19.771422300Z",
     "start_time": "2024-05-19T20:24:17.711055600Z"
    }
   },
   "outputs": [
    {
     "name": "stdout",
     "output_type": "stream",
     "text": [
      "Setup complete\n"
     ]
    }
   ],
   "source": [
    "import os\n",
    "os.environ.pop('MPLBACKEND', None)\n",
    "\n",
    "import matplotlib\n",
    "matplotlib.use('TkAgg')  # або спробуй 'Qt5Agg', якщо буде проблема з TkAgg\n",
    "\n",
    "import matplotlib.pyplot as plt\n",
    "import numpy as np\n",
    "\n",
    "print(\"Setup complete\")"
   ]
  },
  {
   "cell_type": "code",
   "execution_count": 3,
   "metadata": {
    "ExecuteTime": {
     "end_time": "2024-05-19T20:24:26.810909600Z",
     "start_time": "2024-05-19T20:24:24.868008700Z"
    }
   },
   "outputs": [],
   "source": [
    "h = 7\n",
    "p = 0\n",
    "N = 1_234\n",
    "xx = np.linspace(0, 10, N)\n",
    "\n",
    "noise = np.random.normal(0, 4, N)\n",
    "yy = h * xx + p + noise\n",
    "\n",
    "plt.scatter(xx, yy, label='Щумні дані')\n",
    "plt.plot(xx, h * xx + p, color='yellow', label='Ріл пряма')\n",
    "plt.xlabel('xx')\n",
    "plt.ylabel('yy')\n",
    "plt.legend()\n",
    "plt.grid(True)\n",
    "plt.show()"
   ]
  },
  {
   "cell_type": "markdown",
   "metadata": {},
   "source": [
    "1. Формула нахилу ( a ): a = n (∑ xy )−(∑ x )(∑ y ) / n (∑ x 2 )−(∑ x )2\n",
    "2. Перетин ( b ) Формула: b =(∑ y )− a (∑ x ) / n\n",
    "Де:\n",
    "n – кількість точок даних,\n",
    "∑ xy – сума добутку кожної пари значень x і y ,\n",
    "∑ x – сума всіх значень x ,\n",
    "∑ y – сума всіх значень y ,\n",
    "∑ x 2 — сума квадратів значень x ."
   ]
  },
  {
   "cell_type": "code",
   "execution_count": 4,
   "metadata": {
    "ExecuteTime": {
     "end_time": "2024-05-19T20:24:35.305973200Z",
     "start_time": "2024-05-19T20:24:34.232213100Z"
    }
   },
   "outputs": [
    {
     "name": "stdout",
     "output_type": "stream",
     "text": [
      "Рілі пряма :\n",
      "h = 7\n",
      "p = 0\n",
      "\n",
      "метод найменших квадратів:\n",
      "h_hat = 7.034037003047845\n",
      "p_hat = -0.17204997799113458\n",
      "\n",
      "за np.polyfit:\n",
      "h_np_polyfit = 7.034037003047845\n",
      "p_np_polyfit = -0.17204997799112778\n"
     ]
    }
   ],
   "source": [
    "def least_squares_method(x, y):\n",
    "    n = len(x)\n",
    "    sum_x = np.sum(x)\n",
    "    sum_y = np.sum(y)\n",
    "    sum_xy = np.sum(x * y)\n",
    "    sum_xx = np.sum(x * x)\n",
    "\n",
    "    hhat1 = (n * sum_xy - sum_x * sum_y) / (n * sum_xx - sum_x ** 2)\n",
    "    phat1 = (sum_y - hhat1 * sum_x) / n\n",
    "    \n",
    "    return hhat1, phat1\n",
    "\n",
    "hhat, phat = least_squares_method(xx, yy)\n",
    "\n",
    "coefficients = np.polyfit(xx, yy, 1)\n",
    "h_np_polyfit = coefficients[0]\n",
    "p_np_polyfit = coefficients[1]\n",
    "\n",
    "plt.scatter(xx, yy, label='шумні дані')\n",
    "plt.plot(xx, h * xx + p, color='red', label='Рілі пряма')\n",
    "plt.plot(xx, hhat * xx + phat, color='green', linestyle='--', label='метод найменших квадратів')\n",
    "plt.plot(xx, h_np_polyfit * xx + p_np_polyfit, color='orange', linestyle='-.', label='за np.polyfit')\n",
    "plt.xlabel('xx')\n",
    "plt.ylabel('yy')\n",
    "plt.legend()\n",
    "plt.grid(True)\n",
    "plt.show()\n",
    "\n",
    "print(\"Рілі пряма :\")\n",
    "print(\"h =\", h)\n",
    "print(\"p =\", p)\n",
    "print()\n",
    "print(\"метод найменших квадратів:\")\n",
    "print(\"h_hat =\", hhat)\n",
    "print(\"p_hat =\", phat)\n",
    "print()\n",
    "print(\"за np.polyfit:\")\n",
    "print(\"h_np_polyfit =\", h_np_polyfit)\n",
    "print(\"p_np_polyfit =\", p_np_polyfit)"
   ]
  },
  {
   "cell_type": "code",
   "execution_count": 5,
   "metadata": {
    "ExecuteTime": {
     "end_time": "2024-05-19T20:24:42.558903100Z",
     "start_time": "2024-05-19T20:24:37.915945300Z"
    }
   },
   "outputs": [
    {
     "name": "stdout",
     "output_type": "stream",
     "text": [
      "Градієнтний спуск зупинено на ітерації 258 з похибкою 0.03292863598831839\n",
      "3.528372404151269 1.7170462025492164\n"
     ]
    }
   ],
   "source": [
    "def gradient_descent(x, y, learning_rate1, n_iter1, tolerance=1e-4):\n",
    "    hhat1 = 7\n",
    "    phat1 = 7\n",
    "    n = len(x)\n",
    "\n",
    "    if n_iter1 <= 0 or learning_rate1 <= 0:\n",
    "        raise ValueError(\"Параметри learning_rate та n_iter повинні бути більше 0\")\n",
    "    \n",
    "    error_list = []\n",
    "\n",
    "    for iteration in range(n_iter1):\n",
    "        y_pred = hhat1 * x + phat1\n",
    "        gradient_h = (-2/n) * np.sum(x * (y - y_pred))\n",
    "        gradient_p = (-2/n) * np.sum(y - y_pred)\n",
    "\n",
    "        hhat1 -= learning_rate1 * gradient_h\n",
    "        phat1 -= learning_rate1 * gradient_p\n",
    "\n",
    "        error = np.mean((y_pred - y) ** 2)\n",
    "        error_list.append(error)\n",
    "\n",
    "        if iteration > 1 and abs(error_list[-1] - error_list[-2]) <= tolerance:\n",
    "            print(f\"Градієнтний спуск зупинено на ітерації {iteration + 1} з похибкою {error}\")\n",
    "            break\n",
    "\n",
    "        if error <= tolerance:\n",
    "            print(f\"Градієнтний спуск досяг нуля на ітерації {iteration + 1} з похибкою {error}\")\n",
    "            break\n",
    "    \n",
    "    return hhat1, phat1, error_list\n",
    "\n",
    "learning_rate = 0.02\n",
    "n_iter = 19000\n",
    "\n",
    "xx = np.random.rand(100)\n",
    "yy = 3 * xx + 2 + np.random.randn(100) * 0.1\n",
    "\n",
    "h_gradient, p_gradient, error_list = gradient_descent(xx, yy, learning_rate, n_iter)\n",
    "print(h_gradient, p_gradient)\n",
    "\n",
    "def loss_function(x, y, h1, p1):\n",
    "    \"\"\"Обчислює середньоквадратичну помилку між прогнозованими значеннями y_pred та істинними значеннями y\"\"\"\n",
    "    y_pred = h1 * x + p1\n",
    "    return np.mean((y_pred - y) ** 2)\n",
    "\n",
    "plt.scatter(xx, yy, label='шумні дані')\n",
    "plt.plot(xx, h_gradient * xx + p_gradient, color='purple', linestyle=':', label='за градієнтним спуском')\n",
    "plt.xlabel('xx')\n",
    "plt.ylabel('yy')\n",
    "plt.legend()\n",
    "plt.grid(True)\n",
    "plt.show()\n",
    "\n",
    "iterations = range(1, len(error_list) + 1)\n",
    "plt.plot(iterations, error_list, color='orange', label='Градієнтний спуск')\n",
    "plt.xlabel('Кількість ітерацій')\n",
    "plt.ylabel('Похибка')\n",
    "plt.title('Залежність похибки від кількості ітерацій')\n",
    "plt.legend()\n",
    "plt.grid(True)\n",
    "plt.show()\n"
   ]
  },
  {
   "cell_type": "markdown",
   "metadata": {},
   "source": []
  }
 ],
 "metadata": {
  "kernelspec": {
   "display_name": "Python 3",
   "language": "python",
   "name": "python3"
  },
  "language_info": {
   "codemirror_mode": {
    "name": "ipython",
    "version": 3
   },
   "file_extension": ".py",
   "mimetype": "text/x-python",
   "name": "python",
   "nbconvert_exporter": "python",
   "pygments_lexer": "ipython3",
   "version": "3.11.9"
  }
 },
 "nbformat": 4,
 "nbformat_minor": 2
}
